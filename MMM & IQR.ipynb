{
 "cells": [
  {
   "cell_type": "code",
   "execution_count": 95,
   "metadata": {},
   "outputs": [],
   "source": [
    "# Grades list\n",
    "grades = [10 , 25 , 50 , 64 , 65 , 69 , 73 , 76 , 82 , 82 , 84 , 89 , 90 , 98 , 99 , 100]"
   ]
  },
  {
   "cell_type": "code",
   "execution_count": 96,
   "metadata": {},
   "outputs": [],
   "source": [
    "def Mean(list):\n",
    "  average = sum(list) / len(list)\n",
    "  return average"
   ]
  },
  {
   "cell_type": "code",
   "execution_count": 97,
   "metadata": {},
   "outputs": [],
   "source": [
    "def Median(list):\n",
    "  # Even case (len(list) % 2 == 0 / length of the list is divisible by 2) #\n",
    "  medianIndexA = int((len(list) / 2) - 1)\n",
    "  medianIndexB = int(medianIndexA + 1)\n",
    "  medianValueA = list[medianIndexA]\n",
    "  medianValueB = list[medianIndexB]\n",
    "  twoMedians = [medianValueA, medianValueB]\n",
    "  median = sum(twoMedians) / len(twoMedians)\n",
    "  return median"
   ]
  },
  {
   "cell_type": "code",
   "execution_count": 98,
   "metadata": {},
   "outputs": [],
   "source": [
    "def Mode(list):\n",
    "    highestFrequency = (0, 0)\n",
    "    for element in list:\n",
    "        frequency = list.count(element)\n",
    "        if frequency > highestFrequency[0]:\n",
    "            highestFrequency = (frequency, element)\n",
    "    return highestFrequency[1]"
   ]
  },
  {
   "cell_type": "code",
   "execution_count": 99,
   "metadata": {},
   "outputs": [],
   "source": [
    "def LowerQuartile(list):\n",
    "  q1Index = int(0.25 * len(list))\n",
    "  q1 = list[q1Index]\n",
    "  return q1\n"
   ]
  },
  {
   "cell_type": "code",
   "execution_count": 100,
   "metadata": {},
   "outputs": [],
   "source": [
    "def UpperQuartile(list):\n",
    "    q3Index = int(0.75 * len(list))\n",
    "    q3 = list[q3Index]\n",
    "    return q3"
   ]
  },
  {
   "cell_type": "code",
   "execution_count": 101,
   "metadata": {},
   "outputs": [],
   "source": [
    "def IQR(list):\n",
    "    iqr = UpperQuartile(list) - LowerQuartile(list)\n",
    "    return iqr"
   ]
  },
  {
   "cell_type": "code",
   "execution_count": 102,
   "metadata": {},
   "outputs": [
    {
     "name": "stdout",
     "output_type": "stream",
     "text": [
      "\n",
      "Mean: 72.25\n",
      "Median: 79.0\n",
      "Mode: 82\n",
      "LowerQuartile: 65\n",
      "UpperQuartile: 90\n",
      "IQR: 25\n"
     ]
    }
   ],
   "source": [
    "def Main():\n",
    "    fileOutput = open('CUS1179_GPA_summary.txt', 'w')\n",
    "    \n",
    "    gradesMean = \"Mean: \" + str(Mean(grades))\n",
    "    gradesMedian = \"Median: \" + str(Median(grades))\n",
    "    gradesMode = \"Mode: \" + str(Mode(grades))\n",
    "    gradesLowerQuartile = \"LowerQuartile: \" + str(LowerQuartile(grades))\n",
    "    gradesUpperQuartile = \"UpperQuartile: \" + str(UpperQuartile(grades))\n",
    "    gradesIQR = \"IQR: \" + str(IQR(grades))\n",
    "    \n",
    "    total_output = gradesMean + \"\\n\" + gradesMedian + \"\\n\" + gradesMode + \"\\n\" + gradesLowerQuartile + \"\\n\" + gradesUpperQuartile + \"\\n\" + gradesIQR\n",
    "    \n",
    "    print(\"\\n\" + total_output)\n",
    "    \n",
    "    fileOutput.write(total_output)\n",
    "    fileOutput.close()\n",
    "\n",
    "Main()"
   ]
  }
 ],
 "metadata": {
  "kernelspec": {
   "display_name": "Python 3.9.12 ('base')",
   "language": "python",
   "name": "python3"
  },
  "language_info": {
   "codemirror_mode": {
    "name": "ipython",
    "version": 3
   },
   "file_extension": ".py",
   "mimetype": "text/x-python",
   "name": "python",
   "nbconvert_exporter": "python",
   "pygments_lexer": "ipython3",
   "version": "3.9.12"
  },
  "orig_nbformat": 4,
  "vscode": {
   "interpreter": {
    "hash": "b65cb358619c78724c9be6a87f3dc313f1fe61c35a63dd5ad78f10750614afd8"
   }
  }
 },
 "nbformat": 4,
 "nbformat_minor": 2
}
